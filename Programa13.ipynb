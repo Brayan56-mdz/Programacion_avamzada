{
  "nbformat": 4,
  "nbformat_minor": 0,
  "metadata": {
    "colab": {
      "name": "Programa13.ipynb",
      "provenance": [],
      "authorship_tag": "ABX9TyNroB7h/WFSERTm+pChgENw",
      "include_colab_link": true
    },
    "kernelspec": {
      "name": "python3",
      "display_name": "Python 3"
    }
  },
  "cells": [
    {
      "cell_type": "markdown",
      "metadata": {
        "id": "view-in-github",
        "colab_type": "text"
      },
      "source": [
        "<a href=\"https://colab.research.google.com/github/Brayan56-mdz/Programacion_avanzada_2/blob/main/Programa13.ipynb\" target=\"_parent\"><img src=\"https://colab.research.google.com/assets/colab-badge.svg\" alt=\"Open In Colab\"/></a>"
      ]
    },
    {
      "cell_type": "code",
      "metadata": {
        "id": "ZHloGbYFQoQ9"
      },
      "source": [
        "import webbrowser\n",
        "browser = None\n",
        "browsers = (\"firefox\", \"opera\", \"mosaic\", None)\n",
        "for b in browsers:\n",
        "    try:\n",
        "        browser = webbrowser.get(b)\n",
        "    except webbrowser.Error:\n",
        "        if b is None:\n",
        "            print(\"No hay navegador registrado.\")\n",
        "        else:\n",
        "            print(\"No se ha encontrado '%s'.\" % b)\n",
        "    else:\n",
        "        if b is None:\n",
        "            print(\"Navegador por defecto.\")\n",
        "        else:\n",
        "            print(\"Navegador '%s'.\" % b)\n",
        "            \n",
        "url = 'automatetheboringstuff.com/files/rj.txt'\n",
        "\n",
        "# Open URL in a new tab, if a browser window is already open.\n",
        "webbrowser.open_new_tab(url)\n",
        "\n",
        "# Open URL in new window, raising the window if possible.\n",
        "webbrowser.open_new(url)\n"
      ],
      "execution_count": null,
      "outputs": []
    }
  ]
}