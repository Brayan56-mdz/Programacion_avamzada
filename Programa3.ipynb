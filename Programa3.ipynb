{
  "nbformat": 4,
  "nbformat_minor": 0,
  "metadata": {
    "colab": {
      "name": "Programa3.ipynb",
      "provenance": [],
      "authorship_tag": "ABX9TyMRFcPa3k2oLN8JmFteR37Y",
      "include_colab_link": true
    },
    "kernelspec": {
      "name": "python3",
      "display_name": "Python 3"
    }
  },
  "cells": [
    {
      "cell_type": "markdown",
      "metadata": {
        "id": "view-in-github",
        "colab_type": "text"
      },
      "source": [
        "<a href=\"https://colab.research.google.com/github/Brayan56-mdz/Programacion_avanzada_2/blob/main/Programa3.ipynb\" target=\"_parent\"><img src=\"https://colab.research.google.com/assets/colab-badge.svg\" alt=\"Open In Colab\"/></a>"
      ]
    },
    {
      "cell_type": "code",
      "metadata": {
        "id": "86T4iz0TwnRs"
      },
      "source": [
        "# Programa que pemita obtener el RFC con homoclave de una persona\n",
        "import re\n",
        "\n",
        "print(\"Generador de RFC \")\n",
        "nom=str(input(\"Ingresa tu nombre: \"))\n",
        "ap=str(input(\"Ingresa tu apellido paterno: \"))\n",
        "am=str(input(\"Ingresa tu apellido materno:  \"))\n",
        "an=str(input(\"Ingresa tu año: \"))\n",
        "if len(an) > 5:\n",
        "    print(\"Numero invalido, vuelve a intentarlo\")\n",
        "    an=str(input(\"Ingresa tu año de nacimiento: \"))\n",
        "\n",
        "mes=str(input(\"Ingresa el numero de tu mes de nacimiento: \"))\n",
        "dia=str(input(\"Ingresa el dia: \"))\n",
        "\n",
        "def bvol(ap):\n",
        "        vl=ap[0:3]\n",
        "        A=re.findall(\"a\",vl)\n",
        "        a=len(A)\n",
        "        E=re.findall(\"e\",vl)\n",
        "        e=len(E)\n",
        "        I=re.findall(\"i\",vl)\n",
        "        i=len(I)\n",
        "        O=re.findall(\"o\",vl)\n",
        "        o=len(O)\n",
        "        U=re.findall(\"u\",vl)\n",
        "        u=len(U)\n",
        "        if a==1:\n",
        "            vol=A[0]\n",
        "            return vol\n",
        "        if e==1:\n",
        "            vol=E[0]\n",
        "            return vol\n",
        "        if i==1:\n",
        "            vol=I[0]\n",
        "            return vol\n",
        "        if o==1:\n",
        "            vol=O[0]\n",
        "            return vol\n",
        "        if u==1:\n",
        "            vol=U[0]\n",
        "            return vold      \n",
        "        \n",
        "print(\"Tu RFC es: \",ap[0:1],bvol(ap),am[0:1],nom[0:1],an[2:4],mes,dia)"
      ],
      "execution_count": null,
      "outputs": []
    }
  ]
}