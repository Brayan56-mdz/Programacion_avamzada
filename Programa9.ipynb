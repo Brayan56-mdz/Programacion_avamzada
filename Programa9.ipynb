{
  "nbformat": 4,
  "nbformat_minor": 0,
  "metadata": {
    "colab": {
      "name": "Programa9.ipynb",
      "provenance": [],
      "authorship_tag": "ABX9TyNN+rY1R0/T7jKkgMORsyWt",
      "include_colab_link": true
    },
    "kernelspec": {
      "name": "python3",
      "display_name": "Python 3"
    }
  },
  "cells": [
    {
      "cell_type": "markdown",
      "metadata": {
        "id": "view-in-github",
        "colab_type": "text"
      },
      "source": [
        "<a href=\"https://colab.research.google.com/github/Brayan56-mdz/Programacion_avanzada_2/blob/main/Programa9.ipynb\" target=\"_parent\"><img src=\"https://colab.research.google.com/assets/colab-badge.svg\" alt=\"Open In Colab\"/></a>"
      ]
    },
    {
      "cell_type": "code",
      "metadata": {
        "id": "AIe5pWsQbLc0"
      },
      "source": [
        "# Integración: Regla de los trapecios\n",
        "# Usando una función fx()\n",
        "from matplotlib import pyplot\n",
        "import numpy as np\n",
        "import matplotlib.pyplot as plt\n",
        "import sympy as sp\n",
        "# INGRESO\n",
        "print(\" Método de Método de Trapecios\")\n",
        "no=str(input(\"1.limpiar el texto:\\n1.si\\t2.no\\n\"))\n",
        "if(no==\"1\" or no==\"si\"):\n",
        "    bug=open(\" Método de  Método de Trapecios.txt\",\"w\")\n",
        "else:\n",
        "    bug=open(\" Método de  Método de Trapecios.txt\",\"a\")\n",
        "\n",
        "#fx = lambda x: np.sqrt(x)*np.sin(x)\n",
        "def f1(x):\n",
        "    return c\n",
        "c=str(input(\"Ingrese su ecuacion: \"))\n",
        "x = range(-100, 150)\n",
        "\n",
        "#intervalo de integración\n",
        "a=int(input(\"Ingrese el valor de a: \"))\n",
        "b=int(input(\"Ingrese el valor de b: \"))\n",
        "tramos=int(input(\"Ingrese la cantidad de tramos: \"))\n",
        "\n",
        "# PROCEDIMIENTO\n",
        "h = (b-a)/tramos\n",
        "xi = a\n",
        "suma = fx(xi)\n",
        "for i in range(0,tramos-1,1):\n",
        "    xi = xi + h\n",
        "    suma = suma + 2*fx(xi)\n",
        "suma = suma + fx(b)\n",
        "area = h*(suma/2)\n",
        "\n",
        "# SALIDA\n",
        "print('tramos: ', tramos)\n",
        "print('Integral: ', area)\n",
        "\n",
        "# GRAFICA\n",
        "# Puntos de muestra\n",
        "muestras = tramos + 1\n",
        "xi = np.linspace(a,b,muestras)\n",
        "fi = fx(xi)\n",
        "# Linea suave\n",
        "muestraslinea = tramos*10 + 1\n",
        "xk = np.linspace(a,b,muestraslinea)\n",
        "fk = fx(xk)\n",
        "\n",
        "# Graficando\n",
        "plt.plot(xk,fk, label ='f(x)')\n",
        "plt.plot(xi,fi, marker='o',\n",
        "         color='orange', label ='muestras')\n",
        "\n",
        "plt.xlabel('x')\n",
        "plt.ylabel('f(x)')\n",
        "plt.title('Integral: Regla de Trapecios')\n",
        "plt.legend()\n",
        "\n",
        "# Trapecios\n",
        "plt.fill_between(xi,0,fi, color='g')\n",
        "for i in range(0,muestras,1):\n",
        "    plt.axvline(xi[i], color='w')\n",
        "\n",
        "plt.show()\n"
      ],
      "execution_count": null,
      "outputs": []
    }
  ]
}