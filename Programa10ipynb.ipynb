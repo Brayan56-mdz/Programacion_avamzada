{
  "nbformat": 4,
  "nbformat_minor": 0,
  "metadata": {
    "colab": {
      "name": "Programa10ipynb",
      "provenance": [],
      "authorship_tag": "ABX9TyPhKjq2ZwdV2/7O01KDfe+U",
      "include_colab_link": true
    },
    "kernelspec": {
      "name": "python3",
      "display_name": "Python 3"
    }
  },
  "cells": [
    {
      "cell_type": "markdown",
      "metadata": {
        "id": "view-in-github",
        "colab_type": "text"
      },
      "source": [
        "<a href=\"https://colab.research.google.com/github/Brayan56-mdz/Programacion_avanzada_2/blob/main/Programa10ipynb.ipynb\" target=\"_parent\"><img src=\"https://colab.research.google.com/assets/colab-badge.svg\" alt=\"Open In Colab\"/></a>"
      ]
    },
    {
      "cell_type": "code",
      "metadata": {
        "id": "P288GzXwwsIf"
      },
      "source": [
        "#Programa que permita realizar la simulación del Camino o Paseo Aleatorio\n",
        "import random\n",
        "import matplotlib.pyplot as plt\n",
        "import numpy as np\n",
        "\n",
        "a=int(input(\"Ingrese el numero de pasos: \"))\n",
        "x0= np.array([[0], [0]])\n",
        "delta_x = np.random.normal(0,1,(2,a))\n",
        "x=np.concatenate((x0, np.cumsum(delta_x, axis=1)), axis=1)\n",
        "rw= plt.plot(x[0], x[1], \"ro-\")"
      ],
      "execution_count": null,
      "outputs": []
    }
  ]
}