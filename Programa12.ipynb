{
  "nbformat": 4,
  "nbformat_minor": 0,
  "metadata": {
    "colab": {
      "name": "Programa12.ipynb",
      "provenance": [],
      "authorship_tag": "ABX9TyN8YIqJP+L0wFK/8KzkXUjB",
      "include_colab_link": true
    },
    "kernelspec": {
      "name": "python3",
      "display_name": "Python 3"
    }
  },
  "cells": [
    {
      "cell_type": "markdown",
      "metadata": {
        "id": "view-in-github",
        "colab_type": "text"
      },
      "source": [
        "<a href=\"https://colab.research.google.com/github/Brayan56-mdz/Programacion_avanzada_2/blob/main/Programa12.ipynb\" target=\"_parent\"><img src=\"https://colab.research.google.com/assets/colab-badge.svg\" alt=\"Open In Colab\"/></a>"
      ]
    },
    {
      "cell_type": "code",
      "metadata": {
        "id": "F44el1aRipVq"
      },
      "source": [
        "#Elementos atomicos\n",
        "class elemento:\n",
        "    def __init__(self, a, b, c, d, e, f):\n",
        "        self.nombre=a\n",
        "        self.simbolo=b\n",
        "        self.numeroat=c\n",
        "        self.masa=d\n",
        "        self.radio=e\n",
        "        self.estado=f\n",
        "\n",
        "print(\"-Programa de los elementos quimicos-\")\n",
        "no=str(input(\"1.limpiar el texto:\\n1.si\\t2.no\\n\"))\n",
        "if (no==\"1\" or no==\"si\"):\n",
        "    bug=open(\" Elemento quimico.txt\",\"w\")\n",
        "else:\n",
        "    bug=open(\" Elemento quimico.txt\",\"a\")\n",
        "\n",
        "#introduccion de datos\n",
        "archivo=open(\"Elemento quimico.txt\",\"a\")\n",
        "nom=input(\"Ingresa el nombre del elemento: \\n\")\n",
        "archivo.write(nom)\n",
        "sim=input(\"Ingresa el simbolo: \\n\")\n",
        "archivo.write(sim)\n",
        "na= float(input(\"Ingresa su numero atomico: \\n\"))\n",
        "archivo.write('na=% s'%na+'\\n')\n",
        "ma=float(input(\"Ingresa su masa atomica: \\n\"))\n",
        "archivo.write('ma=% s'%ma+'\\n')\n",
        "ra=float(input(\"Ingresa su radio atomico: \\n\"))\n",
        "archivo.write('ra=% s'%ra+'\\n')\n",
        "eo=input(\"Ingresa su estado ordinario: \\n\")\n",
        "archivo.write(eo)\n",
        "\n",
        "archivo.close()\n",
        "\n"
      ],
      "execution_count": null,
      "outputs": []
    }
  ]
}