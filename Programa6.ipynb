{
  "nbformat": 4,
  "nbformat_minor": 0,
  "metadata": {
    "colab": {
      "name": "Programa6.ipynb",
      "provenance": [],
      "authorship_tag": "ABX9TyOvLLMZsOa+NuTBB5febFbQ",
      "include_colab_link": true
    },
    "kernelspec": {
      "name": "python3",
      "display_name": "Python 3"
    }
  },
  "cells": [
    {
      "cell_type": "markdown",
      "metadata": {
        "id": "view-in-github",
        "colab_type": "text"
      },
      "source": [
        "<a href=\"https://colab.research.google.com/github/Brayan56-mdz/Programacion_avanzada_2/blob/main/Programa6.ipynb\" target=\"_parent\"><img src=\"https://colab.research.google.com/assets/colab-badge.svg\" alt=\"Open In Colab\"/></a>"
      ]
    },
    {
      "cell_type": "code",
      "metadata": {
        "id": "lRqCVtev25N5"
      },
      "source": [
        "#Programa que permita ingresar una función f(x) cualquiera y mediante el Método de bisección \n",
        "import numpy as np\n",
        "\n",
        "#fx = lambda x: x**3 + 4*x**2 - 10\n",
        "x=input(\"Ingrese su funcion: \")\n",
        "fx= lambda x : x\n",
        "\n",
        "# INGRESO\n",
        "a=int(input(\"Ingrese el intervalo 1: \"))\n",
        "b=int(input(\"Ingre el intervalo 2: \"))\n",
        "#a = 1\n",
        "#b = 2\n",
        "tolera = 0.001\n",
        "\n",
        "# PROCEDIMIENTO\n",
        "tabla = []\n",
        "tramo = b-a\n",
        "\n",
        "fa = fx(a)\n",
        "fb = fx(b)\n",
        "i = 1\n",
        "while (tramo>tolera):\n",
        "    c = (a+b)/2\n",
        "    fc = fx(c)\n",
        "    tabla.append([i,a,c,b,fa,fc,fb,tramo])\n",
        "    i = i+1\n",
        "                 \n",
        "    cambia = np.sign(fa)*np.sign(fc)\n",
        "    if (cambia<0):\n",
        "        b = c\n",
        "        fb = fc\n",
        "    else:\n",
        "        a=c\n",
        "        fa = fc\n",
        "    tramo = b-a\n",
        "c = (a+b)/2\n",
        "fc = fx(c)\n",
        "tabla.append([i,a,c,b,fa,fc,fb,tramo])\n",
        "tabla = np.array(tabla)\n",
        "\n",
        "raiz = c\n",
        "\n",
        "# SALIDA\n",
        "np.set_printoptions(precision = 4)\n",
        "print('[ i, a, c, b, f(a), f(c), f(b), paso]')\n",
        "\n",
        "# Tabla con formato\n",
        "n=len(tabla)\n",
        "for i in range(0,n,1):\n",
        "    unafila = tabla[i]\n",
        "    formato = '{:.0f}'+' '+(len(unafila)-1)*'{:.3f} '\n",
        "    unafila = formato.format(*unafila)\n",
        "\n",
        "print('raiz: ',raiz)\n",
        "# GRAFICA\n",
        "import matplotlib.pyplot as plt\n",
        "\n",
        "xi = tabla[:,2]\n",
        "yi = tabla[:,5]\n",
        "\n",
        "# ordena los puntos para la grafica\n",
        "orden = np.argsort(xi)\n",
        "xi = xi[orden]\n",
        "yi = yi[orden]\n",
        "\n",
        "plt.plot(xi,yi)\n",
        "plt.plot(xi,yi,'o')\n",
        "plt.axhline(0, color=\"black\")\n",
        "\n",
        "plt.xlabel('x')\n",
        "plt.ylabel('y')\n",
        "plt.title('Bisección en f(x)')\n",
        "plt.grid()\n",
        "plt.show() "
      ],
      "execution_count": null,
      "outputs": []
    }
  ]
}