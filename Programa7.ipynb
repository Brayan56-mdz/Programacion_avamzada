{
  "nbformat": 4,
  "nbformat_minor": 0,
  "metadata": {
    "colab": {
      "name": "Programa7.ipynb",
      "provenance": [],
      "authorship_tag": "ABX9TyMEGqOXeV6gahBOZrWiaXsa",
      "include_colab_link": true
    },
    "kernelspec": {
      "name": "python3",
      "display_name": "Python 3"
    }
  },
  "cells": [
    {
      "cell_type": "markdown",
      "metadata": {
        "id": "view-in-github",
        "colab_type": "text"
      },
      "source": [
        "<a href=\"https://colab.research.google.com/github/Brayan56-mdz/Programacion_avanzada_2/blob/main/Programa7.ipynb\" target=\"_parent\"><img src=\"https://colab.research.google.com/assets/colab-badge.svg\" alt=\"Open In Colab\"/></a>"
      ]
    },
    {
      "cell_type": "code",
      "metadata": {
        "id": "-xuUvwih4_mG"
      },
      "source": [
        "#Programa que permita ingresar una función f(x) cualquiera y mediante el Método de Newton-Raphson \n",
        "import sympy as sy \n",
        "#x es un simbolo\n",
        "x=sy.symbols('x')\n",
        "#funcion \n",
        "funcion=sy.exp(-x)-x\n",
        "#primera derivada de la funcion\n",
        "derivada=sy.diff(funcion,x)\n",
        "#varibles\n",
        "#xo valor inicial para la convergencia\n",
        "x_0=0\n",
        "xr=x_0\n",
        "#error aproximado relatico porcentual\n",
        "ea=100/100\n",
        "#error estimado\n",
        "es=0.001/100\n",
        "contador=-1\n",
        "print(\"i\\txi\\tea%\")\n",
        "while ea>es:\n",
        "    xra=xr\n",
        "    contador+=1\n",
        "    newton_rhapson=x-(funcion/derivada)\n",
        "    #se subtituye x por xr a continuacion n se evalua\n",
        "    xr=newton_rhapson.evalf(subs={x: xr})\n",
        "    #error aproximado relativo porcentual\n",
        "    ea=sy.Abs(((xr-xra)/xr)*100)\n",
        "    #resultado\n",
        "    print(contador,\"\\t\",xra,\"\\t\",ea)\n",
        "    \n",
        "    # GRAFICA\n",
        "import matplotlib.pyplot as plt\n",
        "\n",
        "xi= xra\n",
        "yi = ea \n",
        "plt.plot(xi,yi)\n",
        "plt.plot(xi,yi,'o')\n",
        "plt.axhline(0, color=\"black\")\n",
        "\n",
        "plt.xlabel('x')\n",
        "plt.ylabel('y')\n",
        "plt.title('metodo en f(x)')\n",
        "plt.grid()\n",
        "plt.show() "
      ],
      "execution_count": null,
      "outputs": []
    }
  ]
}